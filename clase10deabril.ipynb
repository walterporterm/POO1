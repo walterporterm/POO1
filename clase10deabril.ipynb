{
  "nbformat": 4,
  "nbformat_minor": 0,
  "metadata": {
    "colab": {
      "provenance": []
    },
    "kernelspec": {
      "name": "python3",
      "display_name": "Python 3"
    },
    "language_info": {
      "name": "python"
    }
  },
  "cells": [
    {
      "cell_type": "code",
      "execution_count": 5,
      "metadata": {
        "id": "cQqbw0ENVFHM"
      },
      "outputs": [],
      "source": [
        "import math\n",
        "\n",
        "class Figura:\n",
        " def __init__(self,nombre):\n",
        "   self.nombre= nombre\n",
        "   self.area= None\n",
        "   self.perimetro= None\n",
        "\n",
        " def calcular_area(self):\n",
        "   pass\n",
        " def calcular_perimetro(self):\n",
        "   pass\n",
        " def mostrarInfo(self):\n",
        "   self.calcular_area()\n",
        "   self.calcular_perimetro()\n",
        "   print(f\"Nombre de la figura: {self.nombre}\")\n",
        "   print(f\"El area del {self.nombre} es {self.area}\")\n",
        "   print(f\"El perimetro del {self.nombre} es {self.perimetro}\")\n",
        "\n"
      ]
    },
    {
      "cell_type": "code",
      "source": [
        "fig= Figura(\"cuadrado\")\n",
        "fig.mostrarInfo()"
      ],
      "metadata": {
        "colab": {
          "base_uri": "https://localhost:8080/"
        },
        "id": "9xko1C8fYoLc",
        "outputId": "502f7345-53ac-44e8-d4dc-4ff987badab1"
      },
      "execution_count": 6,
      "outputs": [
        {
          "output_type": "stream",
          "name": "stdout",
          "text": [
            "Nombre de la figura: cuadrado\n",
            "El area del cuadrado es None\n",
            "El perimetro del cuadrado es None\n"
          ]
        }
      ]
    },
    {
      "cell_type": "code",
      "source": [
        "import math\n",
        "\n",
        "class Figura:\n",
        " def __init__(self,nombre):\n",
        "   self.nombre= nombre\n",
        "   self.area= None\n",
        "   self.perimetro= None\n",
        "\n",
        " def calcular_area(self):\n",
        "   pass\n",
        " def calcular_perimetro(self):\n",
        "   pass\n",
        " def mostrarInfo(self):\n",
        "   self.calcular_area()\n",
        "   self.calcular_perimetro()\n",
        "   print(f\"Nombre de la figura: {self.nombre}\")\n",
        "   print(f\"El area del {self.nombre} es {self.area}\")\n",
        "   print(f\"El perimetro del {self.nombre} es {self.perimetro}\")\n",
        "\n",
        "class Circulo (Figura):\n",
        "  def __init__(self,nombre, radio):\n",
        "    super().__init__(nombre)\n",
        "    self.radio= radio\n",
        "\n",
        "  def calcular_area(self):\n",
        "    return math.pi*self.radio**2\n",
        "\n",
        "  def calcular_perimetro(self):\n",
        "    return super().calcular_perimetro(self)\n",
        "\n",
        "class Triangulo (Figura):\n",
        "  def __init__(self, base, altura, lado1, lado2, lado3):\n",
        "    self.base= base\n",
        "    self.altura= altura\n",
        "    self.lado1= lado1\n",
        "    self.lado2= lado2\n",
        "    self.lado3= lado3\n",
        "\n",
        "  def calcular_area(self):\n",
        "    return 0.5*self.base*self\n",
        "  def calcular_perimetro(self):\n",
        "    return self.lado1+self.lado2+self.lado3\n",
        "\n",
        "class Rectangulo (Figura):\n",
        "  def __init__(self, base, altura):\n",
        "    self.base= base\n",
        "    self.altura= altura\n",
        "\n",
        "  def calcular_area(self):\n",
        "    return self.base*self.altura"
      ],
      "metadata": {
        "id": "7_syDkkgYrOt"
      },
      "execution_count": 7,
      "outputs": []
    }
  ]
}