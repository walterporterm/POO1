{
  "nbformat": 4,
  "nbformat_minor": 0,
  "metadata": {
    "colab": {
      "provenance": []
    },
    "kernelspec": {
      "name": "python3",
      "display_name": "Python 3"
    },
    "language_info": {
      "name": "python"
    }
  },
  "cells": [
    {
      "cell_type": "markdown",
      "source": [],
      "metadata": {
        "id": "P_pFqBgS_2-7"
      }
    },
    {
      "cell_type": "markdown",
      "source": [
        "### ejemplo del uso de la probabilidad clasica\n",
        "Tenemos el siguiente experimento. Lanzamos dos dados honestos\n",
        "\n",
        "$$\\Omega= \\{1,2,3,4,5,6\\}\\times\\{1,2,3,4,5,6\\}$$"
      ],
      "metadata": {
        "id": "C2qlvOSQ_lhP"
      }
    },
    {
      "cell_type": "code",
      "source": [
        "import itertools\n",
        "from itertools import product"
      ],
      "metadata": {
        "id": "cUbnvpeUCfF2"
      },
      "execution_count": null,
      "outputs": []
    },
    {
      "cell_type": "code",
      "execution_count": null,
      "metadata": {
        "colab": {
          "base_uri": "https://localhost:8080/"
        },
        "id": "LFSYrzra_WVi",
        "outputId": "defb17f0-6ed4-4684-9790-df26e776b669"
      },
      "outputs": [
        {
          "output_type": "execute_result",
          "data": {
            "text/plain": [
              "{(1, 1),\n",
              " (1, 2),\n",
              " (1, 3),\n",
              " (1, 4),\n",
              " (1, 5),\n",
              " (1, 6),\n",
              " (2, 1),\n",
              " (2, 2),\n",
              " (2, 3),\n",
              " (2, 4),\n",
              " (2, 5),\n",
              " (2, 6),\n",
              " (3, 1),\n",
              " (3, 2),\n",
              " (3, 3),\n",
              " (3, 4),\n",
              " (3, 5),\n",
              " (3, 6),\n",
              " (4, 1),\n",
              " (4, 2),\n",
              " (4, 3),\n",
              " (4, 4),\n",
              " (4, 5),\n",
              " (4, 6),\n",
              " (5, 1),\n",
              " (5, 2),\n",
              " (5, 3),\n",
              " (5, 4),\n",
              " (5, 5),\n",
              " (5, 6),\n",
              " (6, 1),\n",
              " (6, 2),\n",
              " (6, 3),\n",
              " (6, 4),\n",
              " (6, 5),\n",
              " (6, 6)}"
            ]
          },
          "metadata": {},
          "execution_count": 3
        }
      ],
      "source": [
        "Omega = set( product({1,2,3,4,5,6},repeat=2))\n",
        "Omega"
      ]
    },
    {
      "cell_type": "markdown",
      "source": [
        "La probabilidad de un evento, se calcula como\n",
        "$$\\mathbb{P}(A)=\\frac{\\#A}{\\#A}{\\#\\Omega}.$$\n",
        "\n",
        "Consideramos al siguiente evento:\n",
        "- $S$: La suma de los resultados d elas caras sea 7"
      ],
      "metadata": {
        "id": "l6Gq_ZSQLPxw"
      }
    },
    {
      "cell_type": "code",
      "source": [
        "S={o for o in Omega if (o[0]+o[1])==7}\n",
        "S"
      ],
      "metadata": {
        "colab": {
          "base_uri": "https://localhost:8080/"
        },
        "id": "X9r-9tYYMI96",
        "outputId": "5f245d79-e7ad-4395-dd45-a608ccbddbe3"
      },
      "execution_count": null,
      "outputs": [
        {
          "output_type": "execute_result",
          "data": {
            "text/plain": [
              "{(1, 6), (2, 5), (3, 4), (4, 3), (5, 2), (6, 1)}"
            ]
          },
          "metadata": {},
          "execution_count": 6
        }
      ]
    },
    {
      "cell_type": "code",
      "source": [
        "p= len(S)/len(Omega)\n",
        "print(f\"La probabilidad de que las umas ea 7 es : {p}\")"
      ],
      "metadata": {
        "colab": {
          "base_uri": "https://localhost:8080/"
        },
        "id": "BpiRYsAvN2LA",
        "outputId": "375e2100-2667-498a-907a-fdffb0658e0c"
      },
      "execution_count": null,
      "outputs": [
        {
          "output_type": "stream",
          "name": "stdout",
          "text": [
            "La probabilidad de que las umas ea 7 es : 0.16666666666666666\n"
          ]
        }
      ]
    },
    {
      "cell_type": "code",
      "source": [
        "from fractions import Fraction\n",
        "Fraction (2,5)"
      ],
      "metadata": {
        "colab": {
          "base_uri": "https://localhost:8080/"
        },
        "id": "LVpuq7qGOSx_",
        "outputId": "ffddd8bf-f9e2-4efa-9a9e-f45c35247852"
      },
      "execution_count": null,
      "outputs": [
        {
          "output_type": "execute_result",
          "data": {
            "text/plain": [
              "Fraction(2, 5)"
            ]
          },
          "metadata": {},
          "execution_count": 9
        }
      ]
    },
    {
      "cell_type": "code",
      "source": [
        "#vamos a crear una funcion para calcular probabilidades\n",
        "def S(n):\n",
        "  S={o for o in Omega if (o[0]+o[1])==n}\n",
        "  return S"
      ],
      "metadata": {
        "id": "bAob0AK1OY6L"
      },
      "execution_count": null,
      "outputs": []
    },
    {
      "cell_type": "code",
      "source": [
        "S(2)"
      ],
      "metadata": {
        "colab": {
          "base_uri": "https://localhost:8080/"
        },
        "id": "XozOcLZ3PGu1",
        "outputId": "dff62fc5-e262-459a-89bb-29cec565a5ff"
      },
      "execution_count": null,
      "outputs": [
        {
          "output_type": "execute_result",
          "data": {
            "text/plain": [
              "{(1, 1)}"
            ]
          },
          "metadata": {},
          "execution_count": 11
        }
      ]
    },
    {
      "cell_type": "code",
      "source": [
        "S(4)"
      ],
      "metadata": {
        "colab": {
          "base_uri": "https://localhost:8080/"
        },
        "id": "ZCg9R7dnPKAt",
        "outputId": "04341b99-9a52-4c41-84a6-036b7c9b8c97"
      },
      "execution_count": null,
      "outputs": [
        {
          "output_type": "execute_result",
          "data": {
            "text/plain": [
              "{(1, 3), (2, 2), (3, 1)}"
            ]
          },
          "metadata": {},
          "execution_count": 12
        }
      ]
    },
    {
      "cell_type": "code",
      "source": [
        "len (Omega)"
      ],
      "metadata": {
        "colab": {
          "base_uri": "https://localhost:8080/"
        },
        "id": "NklnlNFoPz0Q",
        "outputId": "f66b032f-7050-4b99-ccb9-f924c887fa9c"
      },
      "execution_count": null,
      "outputs": [
        {
          "output_type": "execute_result",
          "data": {
            "text/plain": [
              "36"
            ]
          },
          "metadata": {},
          "execution_count": 13
        }
      ]
    },
    {
      "cell_type": "code",
      "source": [
        "#Vamos a crear la funcion de\n",
        "def P(A, Omega):\n",
        "  return Fraction(len(A),len(Omega))"
      ],
      "metadata": {
        "id": "iPZ3_2ghP2jg"
      },
      "execution_count": null,
      "outputs": []
    },
    {
      "cell_type": "code",
      "source": [
        "P(S(7),Omega)"
      ],
      "metadata": {
        "colab": {
          "base_uri": "https://localhost:8080/"
        },
        "id": "lIuQeFMyQOt3",
        "outputId": "9a75fdcf-bc8e-4ec0-d570-50f32c79a369"
      },
      "execution_count": null,
      "outputs": [
        {
          "output_type": "execute_result",
          "data": {
            "text/plain": [
              "Fraction(1, 6)"
            ]
          },
          "metadata": {},
          "execution_count": 18
        }
      ]
    },
    {
      "cell_type": "code",
      "source": [
        "P(S(9),Omega)"
      ],
      "metadata": {
        "colab": {
          "base_uri": "https://localhost:8080/"
        },
        "id": "XkHZYB6oQUWC",
        "outputId": "a2a91e17-ec03-4ac8-911b-cd4ed07ea915"
      },
      "execution_count": null,
      "outputs": [
        {
          "output_type": "execute_result",
          "data": {
            "text/plain": [
              "Fraction(1, 9)"
            ]
          },
          "metadata": {},
          "execution_count": 19
        }
      ]
    },
    {
      "cell_type": "markdown",
      "source": [
        "##Matrices y operaciones"
      ],
      "metadata": {
        "id": "7ubM9bNkRSY4"
      }
    },
    {
      "cell_type": "code",
      "source": [
        "import numpy as np\n",
        "class Matriz:\n",
        "  def __init__(self,renglones, columnas):\n",
        "    self.renglones = renglones\n",
        "    self.columnas = columnas\n",
        "    self.coef = np.zeros((renglones,columnas))\n",
        "\n",
        "  def coeficientes(self):\n",
        "    print(f\"Ingresa los coeficients de la matriz {self.renglones}x{self.columnas}\")\n",
        "    for i in range(self.renglones):\n",
        "      self.coef[i] = list (map(float, input().split()))\n",
        "\n",
        "  def mostrar_matriz(self):\n",
        "    print(self.coef)"
      ],
      "metadata": {
        "id": "WJTCQADGRR5F"
      },
      "execution_count": null,
      "outputs": []
    },
    {
      "cell_type": "code",
      "source": [
        "mat= np.array([25,45,67,8,0,1,1,5,18]).reshape(3,3)\n",
        "mat"
      ],
      "metadata": {
        "colab": {
          "base_uri": "https://localhost:8080/"
        },
        "id": "ECoVqT-3VcCz",
        "outputId": "ec2dac75-a8ce-40fa-f64f-6f29747c536f"
      },
      "execution_count": null,
      "outputs": [
        {
          "output_type": "execute_result",
          "data": {
            "text/plain": [
              "array([[25, 45, 67],\n",
              "       [ 8,  0,  1],\n",
              "       [ 1,  5, 18]])"
            ]
          },
          "metadata": {},
          "execution_count": 40
        }
      ]
    },
    {
      "cell_type": "code",
      "source": [
        "np.linalg.det(mat)"
      ],
      "metadata": {
        "colab": {
          "base_uri": "https://localhost:8080/"
        },
        "id": "Lec0vmBcWe6R",
        "outputId": "5c9c54f0-8716-4a78-8011-ccf19d8a0360"
      },
      "execution_count": null,
      "outputs": [
        {
          "output_type": "execute_result",
          "data": {
            "text/plain": [
              "-3879.999999999998"
            ]
          },
          "metadata": {},
          "execution_count": 41
        }
      ]
    }
  ]
}