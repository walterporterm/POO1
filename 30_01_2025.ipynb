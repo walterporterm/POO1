{
  "nbformat": 4,
  "nbformat_minor": 0,
  "metadata": {
    "colab": {
      "provenance": []
    },
    "kernelspec": {
      "name": "python3",
      "display_name": "Python 3"
    },
    "language_info": {
      "name": "python"
    }
  },
  "cells": [
    {
      "cell_type": "markdown",
      "source": [
        "# Listas e ingresos a listas\n",
        "\n",
        "range(a,b)\n",
        "\n",
        "$a\\geq0$\n",
        "\n",
        "$b\\geq0$\n",
        "\n",
        "$a\\le b$\n"
      ],
      "metadata": {
        "id": "ye1oaI-gsJYz"
      }
    },
    {
      "cell_type": "code",
      "execution_count": null,
      "metadata": {
        "colab": {
          "base_uri": "https://localhost:8080/"
        },
        "id": "fgp0Ul-YrTR4",
        "outputId": "96af9841-5a79-4a23-ac72-d3c9cbfd0b71"
      },
      "outputs": [
        {
          "output_type": "execute_result",
          "data": {
            "text/plain": [
              "range"
            ]
          },
          "metadata": {},
          "execution_count": 3
        }
      ],
      "source": [
        "range(10)\n",
        "type(range(10))\n",
        "#la funcion range contiene es el generador de indices o etiquetas en pyton\n"
      ]
    },
    {
      "cell_type": "code",
      "source": [
        "for i in range(10):\n",
        "  print(i)"
      ],
      "metadata": {
        "colab": {
          "base_uri": "https://localhost:8080/"
        },
        "id": "ZTqLNKxZyCIl",
        "outputId": "4b6babfc-93ec-458c-ec97-b10d1c811d3c"
      },
      "execution_count": null,
      "outputs": [
        {
          "output_type": "stream",
          "name": "stdout",
          "text": [
            "0\n",
            "1\n",
            "2\n",
            "3\n",
            "4\n",
            "5\n",
            "6\n",
            "7\n",
            "8\n",
            "9\n"
          ]
        }
      ]
    },
    {
      "cell_type": "code",
      "source": [
        "x=7\n",
        "str(x) #esto hace un numero, un string\n",
        "float(x) #esto le pone decimales a el numero"
      ],
      "metadata": {
        "colab": {
          "base_uri": "https://localhost:8080/"
        },
        "id": "sY2hNeYQzEUD",
        "outputId": "9b80ce0d-7150-45fe-ba26-b5e31e46e8ee"
      },
      "execution_count": null,
      "outputs": [
        {
          "output_type": "execute_result",
          "data": {
            "text/plain": [
              "7.0"
            ]
          },
          "metadata": {},
          "execution_count": 6
        }
      ]
    },
    {
      "cell_type": "code",
      "source": [
        "y=\"7\"\n",
        "int(y)"
      ],
      "metadata": {
        "colab": {
          "base_uri": "https://localhost:8080/"
        },
        "id": "6VAspE4O0_JO",
        "outputId": "cf7ab013-36b0-4db3-dc22-466e1aaa83ff"
      },
      "execution_count": null,
      "outputs": [
        {
          "output_type": "execute_result",
          "data": {
            "text/plain": [
              "7"
            ]
          },
          "metadata": {},
          "execution_count": 7
        }
      ]
    },
    {
      "cell_type": "markdown",
      "source": [
        "#Listas y arreglos\n",
        "\n",
        " Si $A$ es un conjunto, sea $a\\in A$"
      ],
      "metadata": {
        "id": "A97TUMWy-hRX"
      }
    },
    {
      "cell_type": "code",
      "source": [
        "#\n",
        "Indices= [ i for i in range(21)]\n",
        "Indices"
      ],
      "metadata": {
        "colab": {
          "base_uri": "https://localhost:8080/"
        },
        "id": "ee8igwNC1n5O",
        "outputId": "a597440d-9185-4819-be65-7d5fc47cd7db"
      },
      "execution_count": null,
      "outputs": [
        {
          "output_type": "execute_result",
          "data": {
            "text/plain": [
              "[0, 1, 2, 3, 4, 5, 6, 7, 8, 9, 10, 11, 12, 13, 14, 15, 16, 17, 18, 19, 20]"
            ]
          },
          "metadata": {},
          "execution_count": 21
        }
      ]
    },
    {
      "cell_type": "code",
      "source": [
        "Multiplos_3 = [i for i in range(21) if i%3==0]\n",
        "Multiplos_3"
      ],
      "metadata": {
        "colab": {
          "base_uri": "https://localhost:8080/"
        },
        "id": "rrr0UhHz_Ep0",
        "outputId": "b81477d3-8153-4308-fde5-d0f4600a64cf"
      },
      "execution_count": null,
      "outputs": [
        {
          "output_type": "execute_result",
          "data": {
            "text/plain": [
              "[0, 3, 6, 9, 12, 15, 18]"
            ]
          },
          "metadata": {},
          "execution_count": 20
        }
      ]
    },
    {
      "cell_type": "markdown",
      "source": [
        "##Ingresos\n"
      ],
      "metadata": {
        "id": "CKmFGoj3Eyk0"
      }
    },
    {
      "cell_type": "code",
      "source": [
        "Waldor=[]\n",
        "Waldor.append(19)"
      ],
      "metadata": {
        "id": "8ulOh9x9BSvO"
      },
      "execution_count": null,
      "outputs": []
    },
    {
      "cell_type": "code",
      "source": [
        "Waldor.insert(1,\"vela\")"
      ],
      "metadata": {
        "id": "lYmP_9U3GQaB"
      },
      "execution_count": null,
      "outputs": []
    },
    {
      "cell_type": "code",
      "source": [
        "Waldor.append(1.85)\n"
      ],
      "metadata": {
        "id": "-gPD7ZtlGW99"
      },
      "execution_count": null,
      "outputs": []
    },
    {
      "cell_type": "code",
      "source": [
        "Waldor.insert(4,\"tiburon\")"
      ],
      "metadata": {
        "id": "kyS_U-jTHBDU"
      },
      "execution_count": null,
      "outputs": []
    },
    {
      "cell_type": "code",
      "source": [
        "Waldor"
      ],
      "metadata": {
        "id": "W4QGA_e7G7RP",
        "colab": {
          "base_uri": "https://localhost:8080/"
        },
        "outputId": "70a73be9-b4c6-426d-e8fe-586cb15520d7"
      },
      "execution_count": null,
      "outputs": [
        {
          "output_type": "execute_result",
          "data": {
            "text/plain": [
              "[19, 'vela', 1.85, 'tiburon']"
            ]
          },
          "metadata": {},
          "execution_count": 37
        }
      ]
    },
    {
      "cell_type": "code",
      "source": [
        "Waldor.remove(\"tiburon\")\n",
        "Waldor"
      ],
      "metadata": {
        "id": "FQD4zBZHH3qR",
        "colab": {
          "base_uri": "https://localhost:8080/"
        },
        "outputId": "c8511c95-edc0-4509-cc17-93c70418a224"
      },
      "execution_count": null,
      "outputs": [
        {
          "output_type": "execute_result",
          "data": {
            "text/plain": [
              "[19, 'vela', 1.85, 'tiburon']"
            ]
          },
          "metadata": {},
          "execution_count": 33
        }
      ]
    },
    {
      "cell_type": "code",
      "source": [
        "Waldor.pop(4)"
      ],
      "metadata": {
        "colab": {
          "base_uri": "https://localhost:8080/"
        },
        "id": "eEeY8WVTJtNw",
        "outputId": "c9e3489d-7842-4bb1-ea33-a651c8e0be48"
      },
      "execution_count": null,
      "outputs": [
        {
          "output_type": "execute_result",
          "data": {
            "text/plain": [
              "1.85"
            ]
          },
          "metadata": {},
          "execution_count": 36
        }
      ]
    },
    {
      "cell_type": "code",
      "source": [
        "Waldor[0::3]"
      ],
      "metadata": {
        "colab": {
          "base_uri": "https://localhost:8080/"
        },
        "id": "QoKaGx3ENkfj",
        "outputId": "209d26d3-954b-4f93-c025-2301c7b7bfa5"
      },
      "execution_count": 38,
      "outputs": [
        {
          "output_type": "execute_result",
          "data": {
            "text/plain": [
              "[19, 'tiburon']"
            ]
          },
          "metadata": {},
          "execution_count": 38
        }
      ]
    },
    {
      "cell_type": "code",
      "source": [
        "Indices[0::3]\n",
        "#cuando usas esta herramienta en numeros, la diferencia de numeros es lo que se va a saltar"
      ],
      "metadata": {
        "colab": {
          "base_uri": "https://localhost:8080/"
        },
        "id": "rNLlSC8QNsni",
        "outputId": "4c5228e3-66f8-4979-b15f-a041cf5aaca0"
      },
      "execution_count": 39,
      "outputs": [
        {
          "output_type": "execute_result",
          "data": {
            "text/plain": [
              "[0, 3, 6, 9, 12, 15, 18]"
            ]
          },
          "metadata": {},
          "execution_count": 39
        }
      ]
    },
    {
      "cell_type": "code",
      "source": [],
      "metadata": {
        "id": "lYCp78bCNv7i"
      },
      "execution_count": null,
      "outputs": []
    }
  ]
}