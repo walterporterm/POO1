{
  "nbformat": 4,
  "nbformat_minor": 0,
  "metadata": {
    "colab": {
      "provenance": []
    },
    "kernelspec": {
      "name": "python3",
      "display_name": "Python 3"
    },
    "language_info": {
      "name": "python"
    }
  },
  "cells": [
    {
      "cell_type": "code",
      "execution_count": 1,
      "metadata": {
        "colab": {
          "base_uri": "https://localhost:8080/"
        },
        "id": "GKhzQuty6MyS",
        "outputId": "073a3120-c403-4738-e420-b879d4df1418"
      },
      "outputs": [
        {
          "output_type": "stream",
          "name": "stdout",
          "text": [
            "Hola Mundo\n"
          ]
        }
      ],
      "source": [
        "##Imprime \"Hola, Mundo!\" en la consola\n",
        "\n",
        "print(\"Hola Mundo\")"
      ]
    },
    {
      "cell_type": "code",
      "source": [
        "##Declara una variable llamada nombre e imprime su valor\n",
        "Nombre= \"Walter\"\n",
        "print(f\"Mi nombre es {Nombre}\")"
      ],
      "metadata": {
        "colab": {
          "base_uri": "https://localhost:8080/"
        },
        "id": "wNTEEIGZ6grE",
        "outputId": "31ac4051-951f-4790-bc11-9cc52a823591"
      },
      "execution_count": 3,
      "outputs": [
        {
          "output_type": "stream",
          "name": "stdout",
          "text": [
            "Mi nombre es Walter\n"
          ]
        }
      ]
    },
    {
      "cell_type": "code",
      "source": [
        "##Pide al usuario que ingrese un numero e imprime su doble\n",
        "Num= int(input(\"Dame un numero \"))\n",
        "print(f\"El doble del numero es {Num*2}\")"
      ],
      "metadata": {
        "colab": {
          "base_uri": "https://localhost:8080/"
        },
        "id": "g2So-7Oq66wk",
        "outputId": "ee277e06-e23a-42c5-c680-81e3aa665614"
      },
      "execution_count": 5,
      "outputs": [
        {
          "output_type": "stream",
          "name": "stdout",
          "text": [
            "Dame un numero 10\n",
            "El doble del numero es 20\n"
          ]
        }
      ]
    },
    {
      "cell_type": "code",
      "source": [
        "##Escribe un programa que sume dos n´umeros ingresados por el usuario\n",
        "Num= int(input(\"Dame un numero \"))\n",
        "Num2= int(input(\"Dame otro numero \"))\n",
        "print(f\"La suma de estos dos numeros es {Num+Num2}\")"
      ],
      "metadata": {
        "colab": {
          "base_uri": "https://localhost:8080/"
        },
        "id": "OPjWvfuC7hTm",
        "outputId": "6dae24c2-6eed-4822-8ea3-caf158d91f4a"
      },
      "execution_count": 7,
      "outputs": [
        {
          "output_type": "stream",
          "name": "stdout",
          "text": [
            "Dame un numero 10\n",
            "Dame otro numero 5\n",
            "La suma de estos dos numeros es 15\n"
          ]
        }
      ]
    },
    {
      "cell_type": "code",
      "source": [
        "##Crea una lista con cinco n´umeros y muestra el primer y ´ultimo elemento\n",
        "Lista=[5,6,2,3,9]\n",
        "print(f\"El primer numero de la lista es {Lista[0]}\")\n",
        "print(f\"El ultimo numero de la lista es {Lista[4]}\")\n"
      ],
      "metadata": {
        "colab": {
          "base_uri": "https://localhost:8080/"
        },
        "id": "hCNcQXjW8GSl",
        "outputId": "0f0b7b86-286b-4930-e51a-452b75ffa555"
      },
      "execution_count": 12,
      "outputs": [
        {
          "output_type": "stream",
          "name": "stdout",
          "text": [
            "El primer numero de la lista es 5\n",
            "El ultimo numero de la lista es 9\n"
          ]
        }
      ]
    },
    {
      "cell_type": "code",
      "source": [
        "##Escribe un programa que verifique si un n´umero es par o impar.\n",
        "Num3= int(input(\"Dame un numero \"))\n",
        "if Num3 % 2 == 0:\n",
        "  print(f\"{Num3} es par\")\n",
        "else:\n",
        "    print(f\"{Num3} es impar\")"
      ],
      "metadata": {
        "colab": {
          "base_uri": "https://localhost:8080/"
        },
        "id": "UvhhaY759exD",
        "outputId": "0d4773b8-6bf5-4157-9425-0b86ce458dee"
      },
      "execution_count": 14,
      "outputs": [
        {
          "output_type": "stream",
          "name": "stdout",
          "text": [
            "Dame un numero 10\n",
            "10 es par\n"
          ]
        }
      ]
    },
    {
      "cell_type": "code",
      "source": [
        "##Escribe un bucle que imprima los n´umeros del 1 al 10\n",
        "for i in range (1,11):\n",
        "  print(i)\n"
      ],
      "metadata": {
        "colab": {
          "base_uri": "https://localhost:8080/"
        },
        "id": "HxAh_EuZ_PTj",
        "outputId": "7b791c82-6363-402c-ddbb-61242bcc8494"
      },
      "execution_count": 16,
      "outputs": [
        {
          "output_type": "stream",
          "name": "stdout",
          "text": [
            "1\n",
            "2\n",
            "3\n",
            "4\n",
            "5\n",
            "6\n",
            "7\n",
            "8\n",
            "9\n",
            "10\n"
          ]
        }
      ]
    },
    {
      "cell_type": "code",
      "source": [
        "##Calcula la suma de los primeros 100 n´umeros naturales\n",
        "suma=0\n",
        "for i in range (1,101):\n",
        "  suma = suma+i\n",
        "  if(i ==100):\n",
        "    print(\"La suma de los primeros 100 numeros es \", suma)"
      ],
      "metadata": {
        "colab": {
          "base_uri": "https://localhost:8080/"
        },
        "id": "chhTJ0CR_1uM",
        "outputId": "b88316cc-3373-4957-8888-8274ed5a3b2c"
      },
      "execution_count": 30,
      "outputs": [
        {
          "output_type": "stream",
          "name": "stdout",
          "text": [
            "La suma de los primeros 100 numeros es  5050\n"
          ]
        }
      ]
    },
    {
      "cell_type": "code",
      "source": [
        "##Crea una funci´on que reciba un n´umero y devuelva su cuadrado\n",
        "Num4= int(input(\"Dame un numero \"))\n",
        "print(f\"El cuadrado de ese numero es {Num4*Num4}\")"
      ],
      "metadata": {
        "colab": {
          "base_uri": "https://localhost:8080/"
        },
        "id": "LOBroKf4Acb1",
        "outputId": "94715066-cd7e-42a3-bd2a-a2932701440e"
      },
      "execution_count": 26,
      "outputs": [
        {
          "output_type": "stream",
          "name": "stdout",
          "text": [
            "Dame un numero 2\n",
            "El cuadrado de ese numero es 4\n"
          ]
        }
      ]
    },
    {
      "cell_type": "code",
      "source": [
        "##Escribe un programa que cuente cu´antas vocales tiene una cadena de texto\n",
        "Palabra = input(\"Ingrese una palabra \")\n",
        "vocales= \"aeiouAEIOU\"\n",
        "contador=0\n",
        "for letra in Palabra:\n",
        "  if letra in vocales:\n",
        "   contador = contador + 1\n",
        "  print(f\"La palabra tiene {contador} vocales\")"
      ],
      "metadata": {
        "colab": {
          "base_uri": "https://localhost:8080/"
        },
        "id": "91565Hc0BwSA",
        "outputId": "c0b2fe18-ad3c-4ffe-f1ea-3be598dce583"
      },
      "execution_count": 41,
      "outputs": [
        {
          "output_type": "stream",
          "name": "stdout",
          "text": [
            "Ingrese una palabra Walter\n",
            "La palabra tiene 0 vocales\n",
            "La palabra tiene 1 vocales\n",
            "La palabra tiene 1 vocales\n",
            "La palabra tiene 1 vocales\n",
            "La palabra tiene 2 vocales\n",
            "La palabra tiene 2 vocales\n"
          ]
        }
      ]
    },
    {
      "cell_type": "code",
      "source": [
        "##Crea una lista de n´umeros del 1 al 10 y muestra solo los pares\n",
        "for i in range (1,11):\n",
        " if i%2 == 0:\n",
        "  print(f\"Los pares del 1 al 10 son {i}\")"
      ],
      "metadata": {
        "colab": {
          "base_uri": "https://localhost:8080/"
        },
        "id": "eRR4OaodErgx",
        "outputId": "3bdb478f-a067-4e49-88a2-70378f76258f"
      },
      "execution_count": 44,
      "outputs": [
        {
          "output_type": "stream",
          "name": "stdout",
          "text": [
            "Los pares del 1 al 10 son 2\n",
            "Los pares del 1 al 10 son 4\n",
            "Los pares del 1 al 10 son 6\n",
            "Los pares del 1 al 10 son 8\n",
            "Los pares del 1 al 10 son 10\n"
          ]
        }
      ]
    },
    {
      "cell_type": "code",
      "source": [
        "##Crea un diccionario que relacione nombres de personas con su edad y muestra la edad de una persona especifica\n",
        "Hermanos = { \"JC\":20,\n",
        "            \"Juanma\": 19,\n",
        "            \"Iker\": 12,\n",
        "            \"Imanol\": 23\n",
        "            }\n",
        "edad= input(\"De quien quieres saber la edad \")\n",
        "print(Hermanos[edad])\n"
      ],
      "metadata": {
        "colab": {
          "base_uri": "https://localhost:8080/"
        },
        "id": "K4CQSx6dGeY9",
        "outputId": "0fe3078d-4413-4296-8c55-062eb59f77cc"
      },
      "execution_count": 58,
      "outputs": [
        {
          "output_type": "stream",
          "name": "stdout",
          "text": [
            "De quien quieres saber la edad JC\n",
            "20\n"
          ]
        }
      ]
    },
    {
      "cell_type": "code",
      "source": [
        "   ##Escribe un programa que encuentre el n´umero m´as grande en una lista\n",
        "   lista = [1, 2, 3, 4, 5, 6, 7, 8, 9, 10]\n",
        "   mayor = lista[0]\n",
        "   for numero in lista:\n",
        "       if numero > mayor:\n",
        "           mayor = numero\n",
        "   print(\"El número más grande en la lista es:\", mayor)"
      ],
      "metadata": {
        "colab": {
          "base_uri": "https://localhost:8080/"
        },
        "id": "iaxhnK5-Iuo9",
        "outputId": "c64c7213-d385-441a-910a-7d52a3dad945"
      },
      "execution_count": 59,
      "outputs": [
        {
          "output_type": "stream",
          "name": "stdout",
          "text": [
            "El número más grande en la lista es: 10\n"
          ]
        }
      ]
    },
    {
      "cell_type": "code",
      "source": [
        "##Escribe una funci´on que tome una lista de n´umeros y devuelva su promedio\n",
        "lista = [1, 2, 3, 4, 5, 6, 7, 8, 9, 10]\n",
        "promedio= sum(lista)/len(lista)\n",
        "print(promedio)"
      ],
      "metadata": {
        "colab": {
          "base_uri": "https://localhost:8080/"
        },
        "id": "atSaOl5UPsrc",
        "outputId": "b3a0095c-a160-4b8a-a47e-c063285a1919"
      },
      "execution_count": 60,
      "outputs": [
        {
          "output_type": "stream",
          "name": "stdout",
          "text": [
            "5.5\n"
          ]
        }
      ]
    },
    {
      "cell_type": "code",
      "source": [
        "##Escribe un programa que verifique si una palabra es un pal´ındromo\n",
        "palabra = input(\"Ingrese una palabra \")\n",
        "if palabra == palabra[::-1]:\n",
        "  print(\"Es un palindromo\")\n",
        "else:\n",
        "  print(\"No es un palindromo\")"
      ],
      "metadata": {
        "colab": {
          "base_uri": "https://localhost:8080/"
        },
        "id": "IPQWYeqRQH4s",
        "outputId": "a3216d96-0521-4d84-8c14-c3ac76d4a930"
      },
      "execution_count": 62,
      "outputs": [
        {
          "output_type": "stream",
          "name": "stdout",
          "text": [
            "Ingrese una palabra radar\n",
            "Es un palindromo\n"
          ]
        }
      ]
    },
    {
      "cell_type": "code",
      "source": [
        "##Crea una funci´on que tome dos n´umeros y devuelva el mayor\n",
        "Num5= int(input(\"Dame un numero \"))\n",
        "Num6= int(input(\"Dame otro numero \"))\n",
        "if Num5 > Num6:\n",
        "  print(f\"El mayor de los dos numeros es {Num5}\")\n",
        "else:\n",
        "  print(f\"El mayor de los dos numeros es {Num6}\")"
      ],
      "metadata": {
        "colab": {
          "base_uri": "https://localhost:8080/"
        },
        "id": "nTBcXJFkQjEz",
        "outputId": "1a1901b3-5695-4e80-c1b2-203a69ab01b6"
      },
      "execution_count": 65,
      "outputs": [
        {
          "output_type": "stream",
          "name": "stdout",
          "text": [
            "Dame un numero 5\n",
            "Dame otro numero 6\n",
            "El mayor de los dos numeros es 6\n"
          ]
        }
      ]
    },
    {
      "cell_type": "code",
      "source": [
        "##Escribe un programa que genere la tabla de multiplicar de un n´umero ingresado por el usuario\n",
        "num6= int(input (\"Dame un numero \"))\n",
        "for i in range (1,11):\n",
        "  print(f\"{num6} x {i} = {num6*i}\")\n"
      ],
      "metadata": {
        "colab": {
          "base_uri": "https://localhost:8080/"
        },
        "id": "-d-lZ6FURCEh",
        "outputId": "1170e0f9-c26a-46a0-c30f-437710b50fba"
      },
      "execution_count": 66,
      "outputs": [
        {
          "output_type": "stream",
          "name": "stdout",
          "text": [
            "Dame un numero 3\n",
            "3 x 1 = 3\n",
            "3 x 2 = 6\n",
            "3 x 3 = 9\n",
            "3 x 4 = 12\n",
            "3 x 5 = 15\n",
            "3 x 6 = 18\n",
            "3 x 7 = 21\n",
            "3 x 8 = 24\n",
            "3 x 9 = 27\n",
            "3 x 10 = 30\n"
          ]
        }
      ]
    },
    {
      "cell_type": "code",
      "source": [
        "\n"
      ],
      "metadata": {
        "id": "ChNzbQ1JWBsB"
      },
      "execution_count": null,
      "outputs": []
    },
    {
      "cell_type": "code",
      "source": [],
      "metadata": {
        "id": "z4r9eABhWm7j"
      },
      "execution_count": null,
      "outputs": []
    }
  ]
}