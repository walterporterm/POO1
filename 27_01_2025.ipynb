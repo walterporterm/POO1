{
  "nbformat": 4,
  "nbformat_minor": 0,
  "metadata": {
    "colab": {
      "provenance": []
    },
    "kernelspec": {
      "name": "python3",
      "display_name": "Python 3"
    },
    "language_info": {
      "name": "python"
    }
  },
  "cells": [
    {
      "cell_type": "markdown",
      "source": [
        "# Conjuntos y listas\n",
        "\n",
        "*   Conjuntos finitos:\n",
        "$$\\{o_1,0_2,  \\dots, 0_n\\}$$\n",
        "\n",
        "*   Listas finitas\n",
        "$$\\{l_1, l_2,  \\dots, l_n\\}$$\n",
        "\n",
        "------\n",
        "\n",
        "En Python, existe la función `range(a,b)` donde $a,b\\geq 0$\n",
        "\n"
      ],
      "metadata": {
        "id": "2_eSj190cy9d"
      }
    },
    {
      "cell_type": "code",
      "source": [
        "range(10)"
      ],
      "metadata": {
        "colab": {
          "base_uri": "https://localhost:8080/"
        },
        "id": "yB9_JBNafd7W",
        "outputId": "38ffb674-2d9f-4ed5-ef06-36b076287e42"
      },
      "execution_count": 2,
      "outputs": [
        {
          "output_type": "execute_result",
          "data": {
            "text/plain": [
              "range(0, 10)"
            ]
          },
          "metadata": {},
          "execution_count": 2
        }
      ]
    },
    {
      "cell_type": "markdown",
      "source": [
        "¿Como puedo ver a los elementos de este generador de indices?\n"
      ],
      "metadata": {
        "id": "zw3oJAV6fum3"
      }
    },
    {
      "cell_type": "code",
      "execution_count": 4,
      "metadata": {
        "colab": {
          "base_uri": "https://localhost:8080/"
        },
        "id": "t-BO_rEQblS3",
        "outputId": "cccefeda-1e9c-4f65-905b-8e90d463067d"
      },
      "outputs": [
        {
          "output_type": "stream",
          "name": "stdout",
          "text": [
            "0\n",
            "1\n",
            "2\n",
            "3\n",
            "4\n",
            "5\n",
            "6\n",
            "7\n",
            "8\n",
            "9\n"
          ]
        }
      ],
      "source": [
        "for i in range(10) :\n",
        "  print(i)"
      ]
    },
    {
      "cell_type": "code",
      "source": [
        "# Vamos a construir dos conjuntos\n",
        "\n",
        "Pares = {i for i in range(21) if i%2==0}\n",
        "print(f\"Pares: {Pares}\")\n",
        "\n",
        "Impares = {i for i in range(21) if i%2==1}\n",
        "print(f\"Impares: {Impares}\")"
      ],
      "metadata": {
        "colab": {
          "base_uri": "https://localhost:8080/"
        },
        "id": "RwZrFaF2gbHd",
        "outputId": "380ccff4-66c9-4f28-a20f-f2eec153e931"
      },
      "execution_count": 10,
      "outputs": [
        {
          "output_type": "stream",
          "name": "stdout",
          "text": [
            "Pares: {0, 2, 4, 6, 8, 10, 12, 14, 16, 18, 20}\n",
            "Impares: {1, 3, 5, 7, 9, 11, 13, 15, 17, 19}\n"
          ]
        }
      ]
    },
    {
      "cell_type": "code",
      "source": [
        "C= {17,7,27,19,77,56,8,12,10,13,20,16}\n",
        "C, type(C)"
      ],
      "metadata": {
        "colab": {
          "base_uri": "https://localhost:8080/"
        },
        "id": "wvePTFVDiKs2",
        "outputId": "23c3e9cc-d437-4b82-b773-3f4cece0ad48"
      },
      "execution_count": 11,
      "outputs": [
        {
          "output_type": "execute_result",
          "data": {
            "text/plain": [
              "({7, 8, 10, 12, 13, 16, 17, 19, 20, 27, 56, 77}, set)"
            ]
          },
          "metadata": {},
          "execution_count": 11
        }
      ]
    },
    {
      "cell_type": "markdown",
      "source": [
        "***Los objetos en python tienen atributos***"
      ],
      "metadata": {
        "id": "RRzA6HgukKlt"
      }
    },
    {
      "cell_type": "code",
      "source": [
        "Pares.intersection(Impares)"
      ],
      "metadata": {
        "colab": {
          "base_uri": "https://localhost:8080/"
        },
        "id": "yjzBwtunkIqv",
        "outputId": "7fdc86b1-fb71-47e3-dff1-4e7b53562d73"
      },
      "execution_count": 12,
      "outputs": [
        {
          "output_type": "execute_result",
          "data": {
            "text/plain": [
              "set()"
            ]
          },
          "metadata": {},
          "execution_count": 12
        }
      ]
    },
    {
      "cell_type": "code",
      "source": [
        "Pares.union(Impares)"
      ],
      "metadata": {
        "colab": {
          "base_uri": "https://localhost:8080/"
        },
        "id": "SujxKs8okgIB",
        "outputId": "1bc1df83-9faf-4a55-fa34-14345678f4ed"
      },
      "execution_count": 13,
      "outputs": [
        {
          "output_type": "execute_result",
          "data": {
            "text/plain": [
              "{0, 1, 2, 3, 4, 5, 6, 7, 8, 9, 10, 11, 12, 13, 14, 15, 16, 17, 18, 19, 20}"
            ]
          },
          "metadata": {},
          "execution_count": 13
        }
      ]
    },
    {
      "cell_type": "code",
      "source": [
        "Impares.difference(C) #Quitas elementos de C a los Impares"
      ],
      "metadata": {
        "colab": {
          "base_uri": "https://localhost:8080/"
        },
        "id": "n05QNxhhkwO-",
        "outputId": "dffd3a35-c0a6-4b8a-a3e8-21b39fd2fc7e"
      },
      "execution_count": 14,
      "outputs": [
        {
          "output_type": "execute_result",
          "data": {
            "text/plain": [
              "{1, 3, 5, 9, 11, 15}"
            ]
          },
          "metadata": {},
          "execution_count": 14
        }
      ]
    },
    {
      "cell_type": "code",
      "source": [
        "Pares.difference(C)"
      ],
      "metadata": {
        "colab": {
          "base_uri": "https://localhost:8080/"
        },
        "id": "M0XdRSgIk2W5",
        "outputId": "51c3f4bc-a82a-41f7-8cae-e277898be0d1"
      },
      "execution_count": 15,
      "outputs": [
        {
          "output_type": "execute_result",
          "data": {
            "text/plain": [
              "{0, 2, 4, 6, 14, 18}"
            ]
          },
          "metadata": {},
          "execution_count": 15
        }
      ]
    },
    {
      "cell_type": "markdown",
      "source": [
        "## Listas"
      ],
      "metadata": {
        "id": "tup2ugQfl3hk"
      }
    },
    {
      "cell_type": "code",
      "source": [
        "Lista_pares = list(Pares)\n",
        "Lista_pares"
      ],
      "metadata": {
        "colab": {
          "base_uri": "https://localhost:8080/"
        },
        "id": "fEw3eYA_lGgR",
        "outputId": "02f18faf-d1c7-4ac9-f6f5-88f97cf6a98c"
      },
      "execution_count": 17,
      "outputs": [
        {
          "output_type": "execute_result",
          "data": {
            "text/plain": [
              "[0, 2, 4, 6, 8, 10, 12, 14, 16, 18, 20]"
            ]
          },
          "metadata": {},
          "execution_count": 17
        }
      ]
    },
    {
      "cell_type": "code",
      "source": [],
      "metadata": {
        "id": "EjgtmX1HmWBR"
      },
      "execution_count": null,
      "outputs": []
    }
  ]
}