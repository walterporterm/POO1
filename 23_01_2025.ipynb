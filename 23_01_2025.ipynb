{
  "nbformat": 4,
  "nbformat_minor": 0,
  "metadata": {
    "colab": {
      "provenance": []
    },
    "kernelspec": {
      "name": "python3",
      "display_name": "Python 3"
    },
    "language_info": {
      "name": "python"
    }
  },
  "cells": [
    {
      "cell_type": "markdown",
      "source": [
        "#Introducción a Python\n",
        "Python fue concebido a finales de los años 80 como un lenguaje para ser interpretado orientado a la enseñanza. Con el paso del tiempo, Python se ha convertido en una herramienta esencial para todo tipo de programadores, ingenieros e investigadores, tanto en el ámbito académico como industrial.\n",
        "\n",
        "El creador del lenguaje fue el informático holandés Guido van Rossum, conocido durante muchos años con el título de BDFL. Esto era debido a que Guido tenía asignada la tarea de fijar las directrices sobre la evolución de Python, tarea de la que se retiró en 2018. El nombre Python se debe a su afición al programa de la BBC Monty Python’s Flying Circus, del célebre grupo de humoristas británico Monty Python.\n",
        "\n",
        "El éxito de Python reside no solo en su simplicidad, sino que sobre él se ha construido una enorme cantidad de herramientas disponibles para todo tipo de dominios de aplicación.\n",
        "\n",
        "##¿Qué veremos hoy?\n",
        "\n",
        "1.   Objetos\n",
        "2.   Variables\n",
        "3.   Ejemplo\n",
        "\n"
      ],
      "metadata": {
        "id": "quSJ_licqQz7"
      }
    },
    {
      "cell_type": "markdown",
      "source": [
        "**Nota: En este procesador de texto, se puede escribir en html y en latex. Por ejemplo, vamos a escribir la ecuación mas hermosa de todas:  $$e^{iΠ}+1=0$$ Otro ejemplo:      \n",
        "\\begin{bmatrix}\n",
        "a & b & c \\\\\n",
        "d & e & f \\\\\n",
        "g & h & i\n",
        "\\end{bmatrix}**"
      ],
      "metadata": {
        "id": "VMPtVce1t_JI"
      }
    },
    {
      "cell_type": "markdown",
      "source": [
        "### Algunos objetos en Python:\n",
        "\n",
        "\n",
        "1.   int y float (enteros y decimales)\n",
        "2.   str (\"string\")\n",
        "3.   Conjuntos y Listas\n",
        "\n",
        "---\n",
        "\n",
        "**La función `print` y la función `type`**\n",
        "\n",
        "\n"
      ],
      "metadata": {
        "id": "4kXKHudr6kLg"
      }
    },
    {
      "cell_type": "code",
      "execution_count": 3,
      "metadata": {
        "colab": {
          "base_uri": "https://localhost:8080/"
        },
        "id": "PJSjhmcWpYs7",
        "outputId": "67e495e1-f484-4cbe-da70-9d26e135ed63"
      },
      "outputs": [
        {
          "output_type": "stream",
          "name": "stdout",
          "text": [
            "Hola mundo!\n"
          ]
        }
      ],
      "source": [
        "# Vamos a imprimir Hola Mundo!\n",
        "print (\"Hola mundo!\");"
      ]
    },
    {
      "cell_type": "markdown",
      "source": [
        "#### Operaciones básicas en int o float\n",
        "\n",
        "*   $$Suma (+), \\  Resta(-)$$\n",
        "*   $$ Multiplicación (*), \\ División (/), \\ Potencia (**)$$\n",
        "*   $$ Operación \\ modular (\\%)$$\n",
        "*   $$ División \\ al \\ piso (//)$$\n"
      ],
      "metadata": {
        "id": "j7ooE58NAjJY"
      }
    },
    {
      "cell_type": "markdown",
      "source": [
        "**Creación de variables**\n",
        "\n",
        "nombre = objeto"
      ],
      "metadata": {
        "id": "FeGtrc2nFOXj"
      }
    },
    {
      "cell_type": "code",
      "source": [
        "# Vamos a crear dos variables\n",
        "\n",
        "x = 7\n",
        "y = 3\n",
        "\n",
        "\n"
      ],
      "metadata": {
        "id": "UvMK-nuAs6xK"
      },
      "execution_count": 5,
      "outputs": []
    },
    {
      "cell_type": "code",
      "source": [
        "# Operaciones\n",
        "\n",
        "print(f\" La suma entre {x} y {y} es {x+y}\")\n",
        "print(f\" La potenciación entre {x} y {y} es {x**y}\")\n",
        "print(f\" el residuo entre {x} y {y} es {x%y}\")\n",
        "print(f\" La divisón al piso entre {x} y {y} es {x//y}\")\n",
        "\n"
      ],
      "metadata": {
        "colab": {
          "base_uri": "https://localhost:8080/"
        },
        "id": "fWEAWaQOGz5k",
        "outputId": "51f593af-367a-4791-b6a5-23246c418975"
      },
      "execution_count": 10,
      "outputs": [
        {
          "output_type": "stream",
          "name": "stdout",
          "text": [
            " La suma entre 7 y 3 es 10\n",
            " La potenciación entre 7 y 3 es 343\n",
            " el residuo entre 7 y 3 es 1\n",
            " La divisón al piso entre 7 y 3 es 2\n"
          ]
        }
      ]
    },
    {
      "cell_type": "code",
      "source": [
        "# La función type nos dice el tipo de objeto\n",
        "type(x/y), type(\"Waldor\")\n"
      ],
      "metadata": {
        "colab": {
          "base_uri": "https://localhost:8080/"
        },
        "id": "J9MuiZe_Iswh",
        "outputId": "26183a16-be82-4348-b192-4c812390c575"
      },
      "execution_count": 12,
      "outputs": [
        {
          "output_type": "execute_result",
          "data": {
            "text/plain": [
              "(float, str)"
            ]
          },
          "metadata": {},
          "execution_count": 12
        }
      ]
    }
  ]
}