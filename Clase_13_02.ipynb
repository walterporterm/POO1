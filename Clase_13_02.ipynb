{
  "nbformat": 4,
  "nbformat_minor": 0,
  "metadata": {
    "colab": {
      "provenance": []
    },
    "kernelspec": {
      "name": "python3",
      "display_name": "Python 3"
    },
    "language_info": {
      "name": "python"
    }
  },
  "cells": [
    {
      "cell_type": "markdown",
      "source": [
        "## Clases, herencias y polimorfismos"
      ],
      "metadata": {
        "id": "swhJ_mtm6x4j"
      }
    },
    {
      "cell_type": "code",
      "execution_count": null,
      "metadata": {
        "id": "O7rKMHwrx07p"
      },
      "outputs": [],
      "source": [
        "class Alvaro():\n",
        "  pass"
      ]
    },
    {
      "cell_type": "code",
      "source": [
        "Alvaro()"
      ],
      "metadata": {
        "colab": {
          "base_uri": "https://localhost:8080/"
        },
        "id": "_nU3sGlQGyJc",
        "outputId": "9f5f033e-18ef-4b57-f69e-1f9b1651a261"
      },
      "execution_count": null,
      "outputs": [
        {
          "output_type": "execute_result",
          "data": {
            "text/plain": [
              "<__main__.Alvaro at 0x79ca0e368910>"
            ]
          },
          "metadata": {},
          "execution_count": 3
        }
      ]
    },
    {
      "cell_type": "code",
      "source": [
        "class Alvaro():\n",
        "  def __init__ (self ,edad ,bff ,Ceci):\n",
        "   self.edad=edad\n",
        "   self.bff=bff\n",
        "   self.Ceci=Ceci\n",
        "\n",
        "  def saludar(self):\n",
        "    print(f\"A los {self.edad} conoci a mi {self.bff}\")\n",
        "\n",
        "  def chisme (self):\n",
        "    print(f\"Alvaro esta en el chisme con {self.bff} y con {self.Ceci}\")"
      ],
      "metadata": {
        "id": "irEhywl8Lb4L"
      },
      "execution_count": null,
      "outputs": []
    },
    {
      "cell_type": "code",
      "source": [
        "Alvaro(19, \"Jaume\")"
      ],
      "metadata": {
        "colab": {
          "base_uri": "https://localhost:8080/"
        },
        "id": "el60QrzrQv-Y",
        "outputId": "b6e374a5-f965-4542-929f-d56569bddfb3"
      },
      "execution_count": null,
      "outputs": [
        {
          "output_type": "execute_result",
          "data": {
            "text/plain": [
              "<__main__.Alvaro at 0x79c9d7ac5f90>"
            ]
          },
          "metadata": {},
          "execution_count": 17
        }
      ]
    },
    {
      "cell_type": "code",
      "source": [
        "avo=Alvaro(19,\"Jaume\",\"Ceci\")"
      ],
      "metadata": {
        "id": "ltLm6cA3RaTw"
      },
      "execution_count": null,
      "outputs": []
    },
    {
      "cell_type": "code",
      "source": [
        "avo.edad, avo.bff"
      ],
      "metadata": {
        "colab": {
          "base_uri": "https://localhost:8080/"
        },
        "id": "pelnaVnbR--n",
        "outputId": "d7740479-76fc-46cb-ef94-37ca7f49c51e"
      },
      "execution_count": null,
      "outputs": [
        {
          "output_type": "execute_result",
          "data": {
            "text/plain": [
              "(19, 'Jaume')"
            ]
          },
          "metadata": {},
          "execution_count": 43
        }
      ]
    },
    {
      "cell_type": "code",
      "source": [
        "avo.saludar()"
      ],
      "metadata": {
        "colab": {
          "base_uri": "https://localhost:8080/"
        },
        "id": "7_HR6e_uSpcF",
        "outputId": "dc82ef28-2a22-4df3-864f-8b730d80faa4"
      },
      "execution_count": null,
      "outputs": [
        {
          "output_type": "stream",
          "name": "stdout",
          "text": [
            "A los 19 conoci a mi Jaume\n"
          ]
        }
      ]
    },
    {
      "cell_type": "code",
      "source": [
        "avo.chisme()"
      ],
      "metadata": {
        "colab": {
          "base_uri": "https://localhost:8080/"
        },
        "id": "Mrl8FtOBVFsr",
        "outputId": "03582648-5c91-41f0-bd94-cd9fe1cfa7a8"
      },
      "execution_count": null,
      "outputs": [
        {
          "output_type": "stream",
          "name": "stdout",
          "text": [
            "Alvaro esta en el chisme con Jaume y con Ceci\n"
          ]
        }
      ]
    },
    {
      "cell_type": "markdown",
      "source": [],
      "metadata": {
        "id": "Rh2ryt3mUDqF"
      }
    }
  ]
}